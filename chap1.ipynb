{
  "nbformat": 4,
  "nbformat_minor": 0,
  "metadata": {
    "colab": {
      "name": "chap1.ipynb",
      "provenance": [],
      "authorship_tag": "ABX9TyNadUEw02//64nOvUVR0cNH",
      "include_colab_link": true
    },
    "kernelspec": {
      "name": "python3",
      "display_name": "Python 3"
    }
  },
  "cells": [
    {
      "cell_type": "markdown",
      "metadata": {
        "id": "view-in-github",
        "colab_type": "text"
      },
      "source": [
        "<a href=\"https://colab.research.google.com/github/beargrllys/MachineLearning/blob/main/chap1.ipynb\" target=\"_parent\"><img src=\"https://colab.research.google.com/assets/colab-badge.svg\" alt=\"Open In Colab\"/></a>"
      ]
    },
    {
      "cell_type": "code",
      "metadata": {
        "colab": {
          "base_uri": "https://localhost:8080/"
        },
        "id": "2nUL5-r1aqJn",
        "outputId": "d03246c4-9ac6-4617-9da0-47f4ccb91a3d"
      },
      "source": [
        "import numpy as np\n",
        "\n",
        "x = np.array([[1,2,3],[4,5,6]])\n",
        "print(\"x:\\n\",x)"
      ],
      "execution_count": 3,
      "outputs": [
        {
          "output_type": "stream",
          "text": [
            "x:\n",
            " [[1 2 3]\n",
            " [4 5 6]]\n"
          ],
          "name": "stdout"
        }
      ]
    },
    {
      "cell_type": "code",
      "metadata": {
        "colab": {
          "base_uri": "https://localhost:8080/"
        },
        "id": "FmzpjtVre3gN",
        "outputId": "2cc73f67-6a61-4008-f314-31bb9fe57d9a"
      },
      "source": [
        "from scipy import sparse\n",
        "\n",
        "eye = np.eye(4);\n",
        "print(\"Numpy 배열:\\n\", eye)\n",
        "\n",
        "sparse_matrix = sparse.csr_matrix(eye)\n",
        "print(\"\\nScipy의 CSR 행렬:\\n\", sparse_matrix)\n",
        "\n",
        "data = np.ones(4)\n",
        "row_indices = np.arange(4)\n",
        "col_indices = np.arange(4)\n",
        "eye_coo = sparse.coo_matrix((data,(row_indices, col_indices)))\n",
        "print(\"coo표현:\\n\", eye_coo)\n"
      ],
      "execution_count": 6,
      "outputs": [
        {
          "output_type": "stream",
          "text": [
            "Numpy 배열:\n",
            " [[1. 0. 0. 0.]\n",
            " [0. 1. 0. 0.]\n",
            " [0. 0. 1. 0.]\n",
            " [0. 0. 0. 1.]]\n",
            "\n",
            "Scipy의 CSR 행렬:\n",
            "   (0, 0)\t1.0\n",
            "  (1, 1)\t1.0\n",
            "  (2, 2)\t1.0\n",
            "  (3, 3)\t1.0\n",
            "coo표현:\n",
            "   (0, 0)\t1.0\n",
            "  (1, 1)\t1.0\n",
            "  (2, 2)\t1.0\n",
            "  (3, 3)\t1.0\n"
          ],
          "name": "stdout"
        }
      ]
    },
    {
      "cell_type": "code",
      "metadata": {
        "colab": {
          "base_uri": "https://localhost:8080/",
          "height": 282
        },
        "id": "r6d7H5n_kWfa",
        "outputId": "044e3a21-bb8e-4c05-b51b-585be869bc81"
      },
      "source": [
        "%matplotlib inline\n",
        "import matplotlib.pyplot as plt\n",
        "\n",
        "x = np.linspace(-10,10,100)\n",
        "y = np.sin(x)\n",
        "\n",
        "plt.plot(x,y,marker=\"x\")"
      ],
      "execution_count": 8,
      "outputs": [
        {
          "output_type": "execute_result",
          "data": {
            "text/plain": [
              "[<matplotlib.lines.Line2D at 0x7fef4068eda0>]"
            ]
          },
          "metadata": {
            "tags": []
          },
          "execution_count": 8
        },
        {
          "output_type": "display_data",
          "data": {
            "image/png": "[encoded data removed]",
            "text/plain": [
              "<Figure size 432x288 with 1 Axes>"
            ]
          },
          "metadata": {
            "tags": [],
            "needs_background": "light"
          }
        }
      ]
    },
    {
      "cell_type": "code",
      "metadata": {
        "colab": {
          "base_uri": "https://localhost:8080/",
          "height": 204
        },
        "id": "VbxN7UYCk4HD",
        "outputId": "62e68a5d-ff88-416f-ee77-d1d3d18df245"
      },
      "source": [
        "import pandas as pd\n",
        "\n",
        "data = {'Name':[\"Korea\", \"Japan\", \"China\", \"India\", \"Russia\"],\n",
        "        'Location': [\"Asia\",\"Island\",\"Asia\",\"Asia\",\"Europe\"],\n",
        "        'Feature': [\"kimchi\",\"sushi\",\"covid19\",\"curry\",\"soviet\"],\n",
        "        }\n",
        "data_pandas = pd.DataFrame(data)\n",
        "display(data_pandas)"
      ],
      "execution_count": 10,
      "outputs": [
        {
          "output_type": "display_data",
          "data": {
            "text/html": [
              "<div>\n",
              "<style scoped>\n",
              "    .dataframe tbody tr th:only-of-type {\n",
              "        vertical-align: middle;\n",
              "    }\n",
              "\n",
              "    .dataframe tbody tr th {\n",
              "        vertical-align: top;\n",
              "    }\n",
              "\n",
              "    .dataframe thead th {\n",
              "        text-align: right;\n",
              "    }\n",
              "</style>\n",
              "<table border=\"1\" class=\"dataframe\">\n",
              "  <thead>\n",
              "    <tr style=\"text-align: right;\">\n",
              "      <th></th>\n",
              "      <th>Name</th>\n",
              "      <th>Location</th>\n",
              "      <th>Feature</th>\n",
              "    </tr>\n",
              "  </thead>\n",
              "  <tbody>\n",
              "    <tr>\n",
              "      <th>0</th>\n",
              "      <td>Korea</td>\n",
              "      <td>Asia</td>\n",
              "      <td>kimchi</td>\n",
              "    </tr>\n",
              "    <tr>\n",
              "      <th>1</th>\n",
              "      <td>Japan</td>\n",
              "      <td>Island</td>\n",
              "      <td>sushi</td>\n",
              "    </tr>\n",
              "    <tr>\n",
              "      <th>2</th>\n",
              "      <td>China</td>\n",
              "      <td>Asia</td>\n",
              "      <td>covid19</td>\n",
              "    </tr>\n",
              "    <tr>\n",
              "      <th>3</th>\n",
              "      <td>India</td>\n",
              "      <td>Asia</td>\n",
              "      <td>curry</td>\n",
              "    </tr>\n",
              "    <tr>\n",
              "      <th>4</th>\n",
              "      <td>Russia</td>\n",
              "      <td>Europe</td>\n",
              "      <td>soviet</td>\n",
              "    </tr>\n",
              "  </tbody>\n",
              "</table>\n",
              "</div>"
            ],
            "text/plain": [
              "     Name Location  Feature\n",
              "0   Korea     Asia   kimchi\n",
              "1   Japan   Island    sushi\n",
              "2   China     Asia  covid19\n",
              "3   India     Asia    curry\n",
              "4  Russia   Europe   soviet"
            ]
          },
          "metadata": {
            "tags": []
          }
        }
      ]
    },
    {
      "cell_type": "code",
      "metadata": {
        "colab": {
          "base_uri": "https://localhost:8080/"
        },
        "id": "vK6cCjfCrn2Z",
        "outputId": "bcddfa4d-0743-4199-9d0f-1c25bdc474bb"
      },
      "source": [
        "from sklearn.datasets import load_iris\n",
        "iris_dataset = load_iris()\n",
        "print(\"iris_dataset의 키:\\n\", iris_dataset.keys(),'\\n')\n",
        "#print(\"data의 키:\\n\", iris_dataset['data'])\n",
        "#print(\"target 키:\\n\", iris_dataset['target'])\n",
        "print(\"target_names 키:\\n\", iris_dataset['target_names'])\n",
        "#print(\"DESCR 키:\\n\", iris_dataset['DESCR'])\n",
        "print(\"feature_names 키:\\n\", iris_dataset['feature_names'])\n",
        "#print(\"filename 키:\\n\", iris_dataset['filename'])"
      ],
      "execution_count": 16,
      "outputs": [
        {
          "output_type": "stream",
          "text": [
            "iris_dataset의 키:\n",
            " dict_keys(['data', 'target', 'target_names', 'DESCR', 'feature_names', 'filename']) \n",
            "\n",
            "target_names 키:\n",
            " ['setosa' 'versicolor' 'virginica']\n",
            "feature_names 키:\n",
            " ['sepal length (cm)', 'sepal width (cm)', 'petal length (cm)', 'petal width (cm)']\n"
          ],
          "name": "stdout"
        }
      ]
    }
  ]
}